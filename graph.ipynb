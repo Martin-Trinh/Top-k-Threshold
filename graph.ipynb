{
 "cells": [
  {
   "cell_type": "code",
   "execution_count": 2,
   "metadata": {},
   "outputs": [],
   "source": [
    "from matplotlib import pyplot as plt\n",
    "from classes.VideoAttr import VideoAttr\n",
    "from algorithm import *\n",
    "import pandas as pd\n",
    "import time\n",
    "df = pd.read_csv('./data/large_data_vid.csv')\n",
    "class req :\n",
    "    def __init__(self) -> None:\n",
    "        self.aggr_func = \"max\"\n",
    "        self.rows_amount = 12\n",
    "        self.vid_attr = ['views', 'likes']\n",
    "\n",
    "param = req()\n",
    "vid_attr = VideoAttr(df)\n"
   ]
  },
  {
   "cell_type": "code",
   "execution_count": 3,
   "metadata": {},
   "outputs": [
    {
     "name": "stdout",
     "output_type": "stream",
     "text": [
      "[1, 2, 3, 4]\n",
      "[4.730266332626343, 4.721246719360352, 5.255422830581665, 5.089054822921753]\n",
      "[1, 2, 3, 4]\n",
      "[20.266758918762207, 20.068947792053223, 20.659626960754395, 20.420138597488403]\n"
     ]
    }
   ],
   "source": [
    "arr_k = []\n",
    "arr_access_threshold = []\n",
    "arr_time_threshold = []\n",
    "# naive\n",
    "arr_access_naive = []\n",
    "arr_time_naive = []\n",
    "# =========================\n",
    "# for i in range (1, 40002, 10000):\n",
    "#     print(i)\n",
    "#     arr_k.append(i)\n",
    "#     param.rows_amount = i\n",
    "#     start = time.time()\n",
    "#     data, access_cnt = threshold_top_k(df,vid_attr,param)\n",
    "#     time_measured = time.time() - start\n",
    "#     arr_time_threshold.append(time_measured)\n",
    "#     arr_access_threshold.append(access_cnt)\n",
    "# print(arr_k)\n",
    "# print(arr_access_threshold)\n",
    "# print(arr_time_threshold)\n",
    "# ================================\n",
    "# for i in range (1, 40002, 10000):\n",
    "#     param.rows_amount = i\n",
    "#     start = time.time()\n",
    "#     data, access_cnt = naive_top_k(df,param)\n",
    "#     time_measured = time.time() - start\n",
    "#     arr_time_naive.append(time_measured)\n",
    "#     arr_access_naive.append(access_cnt)\n",
    "# print(arr_k)\n",
    "# print(arr_access_naive)\n",
    "# print(arr_time_naive)\n",
    "# ==================\n",
    "columns = df.columns[2:6]\n",
    "arr_attr_len = []\n",
    "for i in range (len(columns)):\n",
    "    param.vid_attr = columns[:i+1]\n",
    "    arr_attr_len.append(len(param.vid_attr))\n",
    "    param.rows_amount = 10000\n",
    "    start = time.time()\n",
    "    data, access_cnt = threshold_top_k(df,vid_attr,param)\n",
    "    time_measured = time.time() - start\n",
    "    arr_time_threshold.append(time_measured)\n",
    "    arr_access_threshold.append(access_cnt)\n",
    "print(arr_attr_len)\n",
    "print(arr_time_threshold)\n",
    "#===========\n",
    "arr_attr_len = []\n",
    "for i in range (len(columns)):\n",
    "    param.vid_attr = columns[:i+1]\n",
    "    arr_attr_len.append(len(param.vid_attr))\n",
    "    param.rows_amount = 10000\n",
    "    start = time.time()\n",
    "    data, access_cnt = naive_top_k(df,param)\n",
    "    time_measured = time.time() - start\n",
    "    arr_time_naive.append(time_measured)\n",
    "print(arr_attr_len)\n",
    "print(arr_time_naive)\n",
    "# =========================\n",
    "# arr_func = ['max', 'min', 'mean']\n",
    "# for func in arr_func:\n",
    "#     param.aggr_func = func\n",
    "#     param.rows_amount = 1000\n",
    "#     start = time.time()\n",
    "#     data, access_cnt = threshold_top_k(df,vid_attr,param)\n",
    "#     time_measured = time.time() - start\n",
    "#     arr_time.append(time_measured)\n",
    "# print(arr_func)\n",
    "# print(arr_time)\n"
   ]
  },
  {
   "cell_type": "code",
   "execution_count": 4,
   "metadata": {},
   "outputs": [
    {
     "data": {
      "image/png": "[encoded data removed]",
      "text/plain": [
       "<Figure size 640x480 with 1 Axes>"
      ]
     },
     "metadata": {},
     "output_type": "display_data"
    }
   ],
   "source": [
    "# plt.plot(arr_k,arr_time_threshold)\n",
    "# plt.plot(arr_k, arr_time_naive)\n",
    "# plt.xlabel('k - amount')\n",
    "# plt.ylabel('Time (s)')\n",
    "# plt.title('Time to k - amount')\n",
    "# plt.legend(['Threshold', 'Naive sequential'])\n",
    "# plt.show()\n",
    "# plt.plot(arr_k, arr_access_threshold)\n",
    "# plt.plot(arr_k, arr_access_naive)\n",
    "# plt.xlabel('k - amount')\n",
    "# plt.ylabel('Database access')\n",
    "# plt.title('Database access to k - amount')\n",
    "# plt.legend(['Threshold', 'Naive sequential'])\n",
    "# plt.show()\n",
    "plt.plot(arr_attr_len, arr_time_threshold)\n",
    "plt.plot(arr_attr_len, arr_time_naive)\n",
    "plt.xlabel('Attribute amount')\n",
    "plt.ylabel('Time (s)')\n",
    "plt.title('Selected attributes to time (k = 10 000)')\n",
    "plt.legend(['Threshold', 'Naive sequential'])\n",
    "plt.show()\n"
   ]
  },
  {
   "cell_type": "code",
   "execution_count": null,
   "metadata": {},
   "outputs": [],
   "source": []
  }
 ],
 "metadata": {
  "kernelspec": {
   "display_name": "base",
   "language": "python",
   "name": "python3"
  },
  "language_info": {
   "codemirror_mode": {
    "name": "ipython",
    "version": 3
   },
   "file_extension": ".py",
   "mimetype": "text/x-python",
   "name": "python",
   "nbconvert_exporter": "python",
   "pygments_lexer": "ipython3",
   "version": "3.10.9"
  },
  "orig_nbformat": 4
 },
 "nbformat": 4,
 "nbformat_minor": 2
}
