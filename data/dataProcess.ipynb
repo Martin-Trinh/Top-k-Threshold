{
 "cells": [
  {
   "cell_type": "code",
   "execution_count": 8,
   "metadata": {},
   "outputs": [
    {
     "name": "stdout",
     "output_type": "stream",
     "text": [
      "(54892, 6)\n"
     ]
    }
   ],
   "source": [
    "import pandas as pd\n",
    "import glob\n",
    "files = glob.glob('*videos.csv')\n",
    "dfs = []\n",
    "for file in files:\n",
    "    vid = pd.read_csv(file, usecols=range(2,11))\n",
    "    vid = vid.drop(['category_id', 'publish_time', 'tags'],axis=1)\n",
    "    dfs.append(vid)\n",
    "videos = pd.concat(dfs,ignore_index=True)\n",
    "# drop columns\n",
    "videos.drop_duplicates(subset=['title'],inplace=True)\n",
    "print(videos.shape)\n",
    "videos.to_csv('large_data_vid.csv', index= False)"
   ]
  }
 ],
 "metadata": {
  "kernelspec": {
   "display_name": "base",
   "language": "python",
   "name": "python3"
  },
  "language_info": {
   "codemirror_mode": {
    "name": "ipython",
    "version": 3
   },
   "file_extension": ".py",
   "mimetype": "text/x-python",
   "name": "python",
   "nbconvert_exporter": "python",
   "pygments_lexer": "ipython3",
   "version": "3.10.9"
  },
  "orig_nbformat": 4
 },
 "nbformat": 4,
 "nbformat_minor": 2
}
