{
 "cells": [
  {
   "cell_type": "code",
   "execution_count": 3,
   "metadata": {},
   "outputs": [
    {
     "name": "stdout",
     "output_type": "stream",
     "text": [
      "Index(['title', 'channel_title', 'views', 'likes', 'comment_count'], dtype='object')\n",
      "                                               title          channel_title  \\\n",
      "0                 WE WANT TO TALK ABOUT OUR MARRIAGE           CaseyNeistat   \n",
      "1  The Trump Presidency: Last Week Tonight with J...        LastWeekTonight   \n",
      "2  Racist Superman | Rudy Mancuso, King Bach & Le...           Rudy Mancuso   \n",
      "3                   Nickelback Lyrics: Real or Fake?  Good Mythical Morning   \n",
      "4                           I Dare You: GOING BALD!?               nigahiga   \n",
      "\n",
      "     views   likes  comment_count  \n",
      "0   748374   57527          15954  \n",
      "1  2418783   97185          12703  \n",
      "2  3191434  146033           8181  \n",
      "3   343168   10172           2146  \n",
      "4  2095731  132235          17518  \n",
      "(40949, 5)\n"
     ]
    }
   ],
   "source": [
    "import pandas as pd\n",
    "\n",
    "vid = pd.read_csv('USvideos.csv', usecols=range(2,11))\n",
    "# drop columns\n",
    "vid =vid.drop(['category_id', 'publish_time', 'tags', 'dislikes'],axis=1)\n",
    "# header\n",
    "print(vid.columns)\n",
    "print(vid.head(5))\n",
    "print(vid.shape)\n",
    "vid.to_csv('processes_data.csv', index= False)"
   ]
  },
  {
   "cell_type": "code",
   "execution_count": 23,
   "metadata": {},
   "outputs": [
    {
     "name": "stdout",
     "output_type": "stream",
     "text": [
      "Index(['views', 'likes', 'comment_count'], dtype='object')\n"
     ]
    }
   ],
   "source": [
    "import pandas as pd\n",
    "vidM = pd.read_csv('processes_data.csv')\n",
    "# col = vidM.columns[2:5]\n",
    "col = vidM.columns[2:5]\n",
    "print(col)\n"
   ]
  },
  {
   "cell_type": "code",
   "execution_count": 24,
   "metadata": {},
   "outputs": [
    {
     "name": "stdout",
     "output_type": "stream",
     "text": [
      "False\n"
     ]
    }
   ],
   "source": [
    "col = []\n",
    "print(1 in col)"
   ]
  },
  {
   "cell_type": "code",
   "execution_count": null,
   "metadata": {},
   "outputs": [],
   "source": []
  }
 ],
 "metadata": {
  "kernelspec": {
   "display_name": "base",
   "language": "python",
   "name": "python3"
  },
  "language_info": {
   "codemirror_mode": {
    "name": "ipython",
    "version": 3
   },
   "file_extension": ".py",
   "mimetype": "text/x-python",
   "name": "python",
   "nbconvert_exporter": "python",
   "pygments_lexer": "ipython3",
   "version": "3.10.9"
  },
  "orig_nbformat": 4
 },
 "nbformat": 4,
 "nbformat_minor": 2
}
